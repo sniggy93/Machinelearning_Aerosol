{
 "cells": [
  {
   "cell_type": "markdown",
   "metadata": {},
   "source": [
    "# OMI\n",
    "\n",
    "The files of OMI are in he5 format. We are taking monthly averages to make the data compatible to POLDER. Since, POLDER data was in monthly averages for 2006. \n",
    "\n"
   ]
  },
  {
   "cell_type": "code",
   "execution_count": 1,
   "metadata": {},
   "outputs": [],
   "source": [
    "import rasterio \n",
    "import numpy as np\n",
    "import matplotlib.pyplot as plt\n",
    "import h5py\n",
    "%matplotlib notebook\n",
    "%qtconsole"
   ]
  },
  {
   "cell_type": "code",
   "execution_count": 2,
   "metadata": {},
   "outputs": [],
   "source": [
    "import numpy as np\n",
    "import h5py\n",
    "import glob\n",
    "import geopandas as gpd\n",
    "import pandas as pd\n",
    "from shapely.geometry import Polygon\n",
    "from matplotlib.pylab import plt"
   ]
  },
  {
   "cell_type": "code",
   "execution_count": 3,
   "metadata": {},
   "outputs": [
    {
     "name": "stdout",
     "output_type": "stream",
     "text": [
      "Keys: <KeysViewHDF5 ['HDFEOS', 'HDFEOS INFORMATION']>\n"
     ]
    }
   ],
   "source": [
    "import h5py\n",
    "filename = \"DATA/OMId3/omilevel3/OMI-Aura_L3-OMAEROe_2006m0102_v003-2011m1109t085136.he5\"\n",
    "\n",
    "with h5py.File(filename, \"r\") as f:\n",
    "    # List all groups\n",
    "    print(\"Keys: %s\" % f.keys())\n",
    "    a_group_key = list(f.keys())[0]\n",
    "\n",
    "    # Get the data\n",
    "    data = list(f[a_group_key])"
   ]
  },
  {
   "cell_type": "code",
   "execution_count": 4,
   "metadata": {},
   "outputs": [
    {
     "name": "stdout",
     "output_type": "stream",
     "text": [
      "HDFEOS\n",
      "HDFEOS INFORMATION\n"
     ]
    }
   ],
   "source": [
    "f = h5py.File(filename, mode='r')\n",
    "for name in f:\n",
    "    print(name)"
   ]
  },
  {
   "cell_type": "code",
   "execution_count": 5,
   "metadata": {},
   "outputs": [
    {
     "name": "stdout",
     "output_type": "stream",
     "text": [
      "HDFEOS\n",
      "HDFEOS/ADDITIONAL\n",
      "HDFEOS/ADDITIONAL/FILE_ATTRIBUTES\n",
      "HDFEOS/GRIDS\n",
      "HDFEOS/GRIDS/ColumnAmountAerosol\n",
      "HDFEOS/GRIDS/ColumnAmountAerosol/Data Fields\n",
      "HDFEOS/GRIDS/ColumnAmountAerosol/Data Fields/AbsorbingAerosolOpticalThicknessMW\n",
      "HDFEOS/GRIDS/ColumnAmountAerosol/Data Fields/AerosolModelMW\n",
      "HDFEOS/GRIDS/ColumnAmountAerosol/Data Fields/AerosolOpticalThicknessMW\n",
      "HDFEOS/GRIDS/ColumnAmountAerosol/Data Fields/AerosolOpticalThicknessPassedThresholdMean\n",
      "HDFEOS/GRIDS/ColumnAmountAerosol/Data Fields/AerosolOpticalThicknessPassedThresholdStd\n",
      "HDFEOS/GRIDS/ColumnAmountAerosol/Data Fields/Latitude\n",
      "HDFEOS/GRIDS/ColumnAmountAerosol/Data Fields/Longitude\n",
      "HDFEOS/GRIDS/ColumnAmountAerosol/Data Fields/SingleScatteringAlbedoMW\n",
      "HDFEOS/GRIDS/ColumnAmountAerosol/Data Fields/SingleScatteringAlbedoPassedThresholdMean\n",
      "HDFEOS/GRIDS/ColumnAmountAerosol/Data Fields/SingleScatteringAlbedoPassedThresholdStd\n",
      "HDFEOS/GRIDS/ColumnAmountAerosol/Data Fields/SolarZenithAngle\n",
      "HDFEOS/GRIDS/ColumnAmountAerosol/Data Fields/TerrainReflectivity\n",
      "HDFEOS/GRIDS/ColumnAmountAerosol/Data Fields/UVAerosolIndex\n",
      "HDFEOS/GRIDS/ColumnAmountAerosol/Data Fields/VISAerosolIndex\n",
      "HDFEOS/GRIDS/ColumnAmountAerosol/Data Fields/ViewingZenithAngle\n",
      "HDFEOS INFORMATION\n",
      "HDFEOS INFORMATION/StructMetadata.0\n"
     ]
    }
   ],
   "source": [
    "f.visit(lambda x: print(x))"
   ]
  },
  {
   "cell_type": "code",
   "execution_count": 6,
   "metadata": {},
   "outputs": [
    {
     "name": "stdout",
     "output_type": "stream",
     "text": [
      "HDFEOS\n",
      "HDFEOS/ADDITIONAL\n",
      "HDFEOS/ADDITIONAL/FILE_ATTRIBUTES\n",
      "HDFEOS/GRIDS\n",
      "HDFEOS/GRIDS/ColumnAmountAerosol\n",
      "HDFEOS/GRIDS/ColumnAmountAerosol/Data Fields\n",
      "HDFEOS/GRIDS/ColumnAmountAerosol/Data Fields/AbsorbingAerosolOpticalThicknessMW\n",
      "HDFEOS/GRIDS/ColumnAmountAerosol/Data Fields/AerosolModelMW\n",
      "HDFEOS/GRIDS/ColumnAmountAerosol/Data Fields/AerosolOpticalThicknessMW\n",
      "HDFEOS/GRIDS/ColumnAmountAerosol/Data Fields/AerosolOpticalThicknessPassedThresholdMean\n",
      "HDFEOS/GRIDS/ColumnAmountAerosol/Data Fields/AerosolOpticalThicknessPassedThresholdStd\n",
      "HDFEOS/GRIDS/ColumnAmountAerosol/Data Fields/Latitude\n",
      "HDFEOS/GRIDS/ColumnAmountAerosol/Data Fields/Longitude\n",
      "HDFEOS/GRIDS/ColumnAmountAerosol/Data Fields/SingleScatteringAlbedoMW\n",
      "HDFEOS/GRIDS/ColumnAmountAerosol/Data Fields/SingleScatteringAlbedoPassedThresholdMean\n",
      "HDFEOS/GRIDS/ColumnAmountAerosol/Data Fields/SingleScatteringAlbedoPassedThresholdStd\n",
      "HDFEOS/GRIDS/ColumnAmountAerosol/Data Fields/SolarZenithAngle\n",
      "HDFEOS/GRIDS/ColumnAmountAerosol/Data Fields/TerrainReflectivity\n",
      "HDFEOS/GRIDS/ColumnAmountAerosol/Data Fields/UVAerosolIndex\n",
      "HDFEOS/GRIDS/ColumnAmountAerosol/Data Fields/VISAerosolIndex\n",
      "HDFEOS/GRIDS/ColumnAmountAerosol/Data Fields/ViewingZenithAngle\n",
      "HDFEOS INFORMATION\n",
      "HDFEOS INFORMATION/StructMetadata.0\n"
     ]
    }
   ],
   "source": [
    "f = h5py.File(filename, mode='r')\n",
    "\n",
    "f.visit(lambda x: print(x))"
   ]
  },
  {
   "cell_type": "code",
   "execution_count": 12,
   "metadata": {},
   "outputs": [],
   "source": [
    "\n",
    "Aerosolmodel = f['HDFEOS/GRIDS/ColumnAmountAerosol/Data Fields/AerosolModelMW']"
   ]
  },
  {
   "cell_type": "code",
   "execution_count": 25,
   "metadata": {},
   "outputs": [
    {
     "name": "stdout",
     "output_type": "stream",
     "text": [
      "<bound method Dataset.len of <HDF5 dataset \"AerosolModelMW\": shape (720, 1440), type \"<u2\">>\n"
     ]
    }
   ],
   "source": [
    "print(Aerosolmodel.len)"
   ]
  },
  {
   "cell_type": "code",
   "execution_count": null,
   "metadata": {},
   "outputs": [],
   "source": []
  },
  {
   "cell_type": "code",
   "execution_count": 14,
   "metadata": {},
   "outputs": [],
   "source": [
    "lat = f['HDFEOS/GRIDS/ColumnAmountAerosol/Data Fields/Latitude']\n",
    "lon = f['HDFEOS/GRIDS/ColumnAmountAerosol/Data Fields/Longitude']"
   ]
  },
  {
   "cell_type": "code",
   "execution_count": 15,
   "metadata": {},
   "outputs": [
    {
     "data": {
      "text/plain": [
       "<HDF5 dataset \"Latitude\": shape (720, 1440), type \"<f4\">"
      ]
     },
     "execution_count": 15,
     "metadata": {},
     "output_type": "execute_result"
    }
   ],
   "source": [
    "lat"
   ]
  },
  {
   "cell_type": "code",
   "execution_count": 16,
   "metadata": {},
   "outputs": [],
   "source": [
    "so2 = Aerosolmodel"
   ]
  },
  {
   "cell_type": "code",
   "execution_count": 17,
   "metadata": {},
   "outputs": [
    {
     "data": {
      "text/plain": [
       "<HDF5 dataset \"AerosolModelMW\": shape (720, 1440), type \"<u2\">"
      ]
     },
     "execution_count": 17,
     "metadata": {},
     "output_type": "execute_result"
    }
   ],
   "source": [
    "so2"
   ]
  },
  {
   "cell_type": "code",
   "execution_count": 18,
   "metadata": {},
   "outputs": [
    {
     "name": "stdout",
     "output_type": "stream",
     "text": [
      "MissingValue [65535]\n",
      "Offset [0.]\n",
      "ScaleFactor [1.]\n",
      "Title b'Aerosol model indicator for best fit aerosol model derived with the Multi-Wavelength method'\n",
      "UniqueFieldDefinition b'OMI-Specific'\n",
      "Units b'NoUnits'\n",
      "_FillValue [65535]\n"
     ]
    }
   ],
   "source": [
    "for a in so2.attrs:\n",
    "    print(a, so2.attrs[a])\n",
    "    \n",
    "# Some of these are floats, others are strings, extracting values is difference depending on which:\n",
    "nodata = so2.attrs['MissingValue'][0]\n",
    "units = so2.attrs['Units'].decode()\n",
    "titlestr = so2.attrs['Title'].decode()\n",
    "titlestr = so2.attrs['UniqueFieldDefinition'].decode()"
   ]
  },
  {
   "cell_type": "code",
   "execution_count": 19,
   "metadata": {},
   "outputs": [],
   "source": [
    "FILL_VALUE = -1,2676506e+30\n",
    "\n",
    "def monthly_no2(files, filter_to_nan = 14.5): \n",
    "    '''\n",
    "    \n",
    "    Return monthly averaged $NO_2$ matrix from  a list of files\n",
    "    \n",
    "    \n",
    "    \n",
    "    '''\n",
    "    \n",
    "    arr = np.empty(len(files), lat.shape[0], lon.shape[0], dtype = float) \n",
    "    p = 'ColumnAmountNO2TropCloudScreened'\n",
    "    for ix, file in enumerate(files): \n",
    "        with h5py.File(file, 'r') as f:\n",
    "            data = f['HDFEOS']['GRIDS']['ColumnAmountNO2']['Data Fields'][p][:]\n",
    "            data[(data == FILL_VALUE) | (data <= 0)] = np.nan\n",
    "            arr[ix] = data \n",
    "            \n",
    "    average_monthly = np.log10(np.nanmean(arr,axis = 0))\n",
    "    average_monthly[average_monthly < filter_to_nan] = np.nan\n",
    "    return average_monthly\n"
   ]
  },
  {
   "cell_type": "code",
   "execution_count": 20,
   "metadata": {},
   "outputs": [
    {
     "ename": "NameError",
     "evalue": "name 'files' is not defined",
     "output_type": "error",
     "traceback": [
      "\u001b[0;31m---------------------------------------------------------------------------\u001b[0m",
      "\u001b[0;31mNameError\u001b[0m                                 Traceback (most recent call last)",
      "\u001b[0;32m<ipython-input-20-1dbd23854d81>\u001b[0m in \u001b[0;36m<module>\u001b[0;34m\u001b[0m\n\u001b[0;32m----> 1\u001b[0;31m \u001b[0maverage_monthly\u001b[0m \u001b[0;34m=\u001b[0m \u001b[0mmonthly_no2\u001b[0m\u001b[0;34m(\u001b[0m\u001b[0mfiles\u001b[0m\u001b[0;34m)\u001b[0m\u001b[0;34m\u001b[0m\u001b[0;34m\u001b[0m\u001b[0m\n\u001b[0m",
      "\u001b[0;31mNameError\u001b[0m: name 'files' is not defined"
     ]
    }
   ],
   "source": [
    "average_monthly = monthly_no2(files)"
   ]
  },
  {
   "cell_type": "code",
   "execution_count": 21,
   "metadata": {},
   "outputs": [],
   "source": [
    "# Making the countries map \n",
    "world = gpd.read_file(gpd.datasets.get_path('naturalearth_lowres'))\n",
    "\n",
    "world = world[['continent', 'geometry']]\n",
    "\n",
    "continents = world.dissolve(by='continent')\n",
    "continents = world.dissolve(by='continent')\n",
    "continents = continents[~continents.index.isin(['Seven seas (open ocean)', 'Antarctica'])]\n",
    "continents = continents.geometry.explode().reset_index()"
   ]
  },
  {
   "cell_type": "code",
   "execution_count": 22,
   "metadata": {},
   "outputs": [
    {
     "data": {
      "text/html": [
       "<div>\n",
       "<style scoped>\n",
       "    .dataframe tbody tr th:only-of-type {\n",
       "        vertical-align: middle;\n",
       "    }\n",
       "\n",
       "    .dataframe tbody tr th {\n",
       "        vertical-align: top;\n",
       "    }\n",
       "\n",
       "    .dataframe thead th {\n",
       "        text-align: right;\n",
       "    }\n",
       "</style>\n",
       "<table border=\"1\" class=\"dataframe\">\n",
       "  <thead>\n",
       "    <tr style=\"text-align: right;\">\n",
       "      <th></th>\n",
       "      <th>continent</th>\n",
       "      <th>level_1</th>\n",
       "      <th>geometry</th>\n",
       "    </tr>\n",
       "  </thead>\n",
       "  <tbody>\n",
       "    <tr>\n",
       "      <th>0</th>\n",
       "      <td>Africa</td>\n",
       "      <td>0</td>\n",
       "      <td>POLYGON ((32.83012 -26.74219, 32.58026 -27.470...</td>\n",
       "    </tr>\n",
       "    <tr>\n",
       "      <th>1</th>\n",
       "      <td>Africa</td>\n",
       "      <td>1</td>\n",
       "      <td>POLYGON ((49.54352 -12.46983, 49.80898 -12.895...</td>\n",
       "    </tr>\n",
       "    <tr>\n",
       "      <th>2</th>\n",
       "      <td>Asia</td>\n",
       "      <td>0</td>\n",
       "      <td>POLYGON ((120.29501 -10.25865, 118.96781 -9.55...</td>\n",
       "    </tr>\n",
       "    <tr>\n",
       "      <th>3</th>\n",
       "      <td>Asia</td>\n",
       "      <td>1</td>\n",
       "      <td>POLYGON ((108.48685 -6.42198, 108.62348 -6.777...</td>\n",
       "    </tr>\n",
       "    <tr>\n",
       "      <th>4</th>\n",
       "      <td>Asia</td>\n",
       "      <td>2</td>\n",
       "      <td>POLYGON ((134.21013 -6.89524, 134.11278 -6.142...</td>\n",
       "    </tr>\n",
       "    <tr>\n",
       "      <th>...</th>\n",
       "      <td>...</td>\n",
       "      <td>...</td>\n",
       "      <td>...</td>\n",
       "    </tr>\n",
       "    <tr>\n",
       "      <th>120</th>\n",
       "      <td>Oceania</td>\n",
       "      <td>17</td>\n",
       "      <td>POLYGON ((162.11902 -10.48272, 162.39865 -10.8...</td>\n",
       "    </tr>\n",
       "    <tr>\n",
       "      <th>121</th>\n",
       "      <td>Oceania</td>\n",
       "      <td>18</td>\n",
       "      <td>POLYGON ((141.00021 -2.60015, 142.73525 -3.289...</td>\n",
       "    </tr>\n",
       "    <tr>\n",
       "      <th>122</th>\n",
       "      <td>South America</td>\n",
       "      <td>0</td>\n",
       "      <td>POLYGON ((-66.95992 -54.89681, -67.29103 -55.3...</td>\n",
       "    </tr>\n",
       "    <tr>\n",
       "      <th>123</th>\n",
       "      <td>South America</td>\n",
       "      <td>1</td>\n",
       "      <td>POLYGON ((-61.20000 -51.85000, -60.00000 -51.2...</td>\n",
       "    </tr>\n",
       "    <tr>\n",
       "      <th>124</th>\n",
       "      <td>South America</td>\n",
       "      <td>2</td>\n",
       "      <td>POLYGON ((-58.42707 -33.90945, -58.49544 -34.4...</td>\n",
       "    </tr>\n",
       "  </tbody>\n",
       "</table>\n",
       "<p>125 rows × 3 columns</p>\n",
       "</div>"
      ],
      "text/plain": [
       "         continent  level_1                                           geometry\n",
       "0           Africa        0  POLYGON ((32.83012 -26.74219, 32.58026 -27.470...\n",
       "1           Africa        1  POLYGON ((49.54352 -12.46983, 49.80898 -12.895...\n",
       "2             Asia        0  POLYGON ((120.29501 -10.25865, 118.96781 -9.55...\n",
       "3             Asia        1  POLYGON ((108.48685 -6.42198, 108.62348 -6.777...\n",
       "4             Asia        2  POLYGON ((134.21013 -6.89524, 134.11278 -6.142...\n",
       "..             ...      ...                                                ...\n",
       "120        Oceania       17  POLYGON ((162.11902 -10.48272, 162.39865 -10.8...\n",
       "121        Oceania       18  POLYGON ((141.00021 -2.60015, 142.73525 -3.289...\n",
       "122  South America        0  POLYGON ((-66.95992 -54.89681, -67.29103 -55.3...\n",
       "123  South America        1  POLYGON ((-61.20000 -51.85000, -60.00000 -51.2...\n",
       "124  South America        2  POLYGON ((-58.42707 -33.90945, -58.49544 -34.4...\n",
       "\n",
       "[125 rows x 3 columns]"
      ]
     },
     "execution_count": 22,
     "metadata": {},
     "output_type": "execute_result"
    }
   ],
   "source": [
    "continents\n"
   ]
  },
  {
   "cell_type": "code",
   "execution_count": null,
   "metadata": {},
   "outputs": [],
   "source": []
  },
  {
   "cell_type": "code",
   "execution_count": null,
   "metadata": {},
   "outputs": [],
   "source": []
  },
  {
   "cell_type": "code",
   "execution_count": null,
   "metadata": {},
   "outputs": [],
   "source": []
  },
  {
   "cell_type": "code",
   "execution_count": null,
   "metadata": {},
   "outputs": [],
   "source": []
  },
  {
   "cell_type": "code",
   "execution_count": null,
   "metadata": {},
   "outputs": [],
   "source": []
  },
  {
   "cell_type": "code",
   "execution_count": 11,
   "metadata": {},
   "outputs": [
    {
     "ename": "AttributeError",
     "evalue": "'Dataset' object has no attribute 'value'",
     "output_type": "error",
     "traceback": [
      "\u001b[0;31m---------------------------------------------------------------------------\u001b[0m",
      "\u001b[0;31mAttributeError\u001b[0m                            Traceback (most recent call last)",
      "\u001b[0;32m<ipython-input-11-596b70b00860>\u001b[0m in \u001b[0;36m<module>\u001b[0;34m\u001b[0m\n\u001b[0;32m----> 1\u001b[0;31m \u001b[0mdata\u001b[0m \u001b[0;34m=\u001b[0m \u001b[0mso2\u001b[0m\u001b[0;34m.\u001b[0m\u001b[0mvalue\u001b[0m\u001b[0;34m\u001b[0m\u001b[0;34m\u001b[0m\u001b[0m\n\u001b[0m\u001b[1;32m      2\u001b[0m \u001b[0mnodata\u001b[0m \u001b[0;34m=\u001b[0m \u001b[0mso2\u001b[0m\u001b[0;34m.\u001b[0m\u001b[0mattrs\u001b[0m\u001b[0;34m[\u001b[0m\u001b[0;34m'MissingValue'\u001b[0m\u001b[0;34m]\u001b[0m\u001b[0;34m\u001b[0m\u001b[0;34m\u001b[0m\u001b[0m\n\u001b[1;32m      3\u001b[0m \u001b[0mdata\u001b[0m\u001b[0;34m[\u001b[0m\u001b[0mso2\u001b[0m\u001b[0;34m.\u001b[0m\u001b[0mvalue\u001b[0m \u001b[0;34m==\u001b[0m \u001b[0mnodata\u001b[0m\u001b[0;34m]\u001b[0m \u001b[0;34m=\u001b[0m \u001b[0mnp\u001b[0m\u001b[0;34m.\u001b[0m\u001b[0mnan\u001b[0m\u001b[0;34m\u001b[0m\u001b[0;34m\u001b[0m\u001b[0m\n",
      "\u001b[0;31mAttributeError\u001b[0m: 'Dataset' object has no attribute 'value'"
     ]
    }
   ],
   "source": [
    "\n",
    "data = so2.value\n",
    "nodata = so2.attrs['MissingValue']\n",
    "data[so2.value == nodata] = np.nan"
   ]
  },
  {
   "cell_type": "code",
   "execution_count": null,
   "metadata": {},
   "outputs": [],
   "source": [
    "# Import Python packages (tools for working with geospatial data)\n",
    "import rasterio \n",
    "import numpy as np\n",
    "import matplotlib.pyplot as plt\n",
    "import h5py\n",
    "%matplotlib notebook\n",
    "%qtconsole\n",
    "\n",
    "plt.figure(figsize=(8,4))\n",
    "plt.imshow(data)\n",
    "cb = plt.colorbar()\n",
    "cb.set_label(units)\n",
    "plt.title(filename)"
   ]
  },
  {
   "cell_type": "code",
   "execution_count": null,
   "metadata": {},
   "outputs": [],
   "source": []
  },
  {
   "cell_type": "code",
   "execution_count": null,
   "metadata": {},
   "outputs": [],
   "source": []
  },
  {
   "cell_type": "code",
   "execution_count": null,
   "metadata": {},
   "outputs": [],
   "source": []
  },
  {
   "cell_type": "code",
   "execution_count": 26,
   "metadata": {},
   "outputs": [],
   "source": [
    "import os\n",
    "import matplotlib as mpl\n",
    "import matplotlib.pyplot as plt\n",
    "from mpl_toolkits.basemap import Basemap\n",
    "import numpy as np\n",
    "import h5py"
   ]
  },
  {
   "cell_type": "code",
   "execution_count": 28,
   "metadata": {},
   "outputs": [
    {
     "ename": "SyntaxError",
     "evalue": "invalid syntax (<ipython-input-28-354f2f9aa4fe>, line 6)",
     "output_type": "error",
     "traceback": [
      "\u001b[0;36m  File \u001b[0;32m\"<ipython-input-28-354f2f9aa4fe>\"\u001b[0;36m, line \u001b[0;32m6\u001b[0m\n\u001b[0;31m    print f.keys()\u001b[0m\n\u001b[0m          ^\u001b[0m\n\u001b[0;31mSyntaxError\u001b[0m\u001b[0;31m:\u001b[0m invalid syntax\n"
     ]
    }
   ],
   "source": [
    "# Open file.\n",
    "filename = \"DATA/OMId3/omilevel3/OMI-Aura_L3-OMAEROe_2006m0102_v003-2011m1109t085136.he5\"\n",
    "DATAFIELD_NAME = '/HDFEOS/GRIDS/OMI Column Amount O3/Data Fields/ColumnAmountO3'\n",
    "with h5py.File(filename, mode='r') as f:\n",
    "# List available datasets.\n",
    "    print f.keys()\n",
    "\n",
    "# Read dataset.\n",
    "    dset = f[DATAFIELD_NAME]\n",
    "    data = dset[:]\n",
    "\n",
    "# Handle fill value.\n",
    "    data[data == dset.fillvalue] = np.nan\n",
    "    data = np.ma.masked_where(np.isnan(data), data)\n",
    "\n",
    "# Get attributes needed for the plot.\n",
    "# String attributes actually come in as the bytes type and should\n",
    "# be decoded to UTF-8 (python3).\n",
    "    title = dset.attrs['Title'].decode()\n",
    "    units = dset.attrs['Units'].decode()"
   ]
  },
  {
   "cell_type": "code",
   "execution_count": null,
   "metadata": {},
   "outputs": [],
   "source": []
  }
 ],
 "metadata": {
  "kernelspec": {
   "display_name": "Python 3",
   "language": "python",
   "name": "python3"
  },
  "language_info": {
   "codemirror_mode": {
    "name": "ipython",
    "version": 3
   },
   "file_extension": ".py",
   "mimetype": "text/x-python",
   "name": "python",
   "nbconvert_exporter": "python",
   "pygments_lexer": "ipython3",
   "version": "3.8.5"
  }
 },
 "nbformat": 4,
 "nbformat_minor": 4
}
